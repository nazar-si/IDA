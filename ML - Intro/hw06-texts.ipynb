{
  "cells": [
    {
      "attachments": {},
      "cell_type": "markdown",
      "metadata": {
        "id": "xrvOD02o3HvH"
      },
      "source": [
        "# Домашнее задание 6: классификация текстов"
      ]
    },
    {
      "attachments": {},
      "cell_type": "markdown",
      "metadata": {
        "id": "sxwj_Iie3HvJ"
      },
      "source": [
        "В этом домашнем задании вам предстоит построить классификатор текстов!\n",
        "\n",
        "Данные мы будем использовать из Kaggle соревнования: https://www.kaggle.com/competitions/nlp-getting-started/data \n",
        "\n",
        "\n",
        "Оттуда надо скачать файл train.csv. На обучающую и тестовую выборки его поделим кодом ниже, менять его не надо!"
      ]
    },
    {
      "attachments": {},
      "cell_type": "markdown",
      "metadata": {
        "id": "qQVgqLg93HvJ"
      },
      "source": [
        "Мы будем работать с датасетом постов из твиттера. Нам предстоит решать задачу бинарной классификации - определять содержатся ли в твитте информация о настоящей катастрофе/инциденте или нет."
      ]
    },
    {
      "cell_type": "code",
      "execution_count": 2,
      "metadata": {
        "id": "TcjEYh7R3HvK"
      },
      "outputs": [],
      "source": [
        "import numpy as np\n",
        "import pandas as pd\n",
        "from typing import  List\n",
        "import matplotlib.pyplot as plt\n",
        "import seaborn as sns\n",
        "from string import punctuation"
      ]
    },
    {
      "cell_type": "code",
      "execution_count": 3,
      "metadata": {
        "id": "mjwffGiB3HvK"
      },
      "outputs": [],
      "source": [
        "data = pd.read_csv('train.csv')"
      ]
    },
    {
      "cell_type": "code",
      "execution_count": 4,
      "metadata": {
        "colab": {
          "base_uri": "https://localhost:8080/",
          "height": 206
        },
        "id": "v0uUoFTN3HvK",
        "outputId": "0d37d677-a00d-449c-8f86-6f85dce2ef4a"
      },
      "outputs": [
        {
          "data": {
            "text/html": [
              "<div>\n",
              "<style scoped>\n",
              "    .dataframe tbody tr th:only-of-type {\n",
              "        vertical-align: middle;\n",
              "    }\n",
              "\n",
              "    .dataframe tbody tr th {\n",
              "        vertical-align: top;\n",
              "    }\n",
              "\n",
              "    .dataframe thead th {\n",
              "        text-align: right;\n",
              "    }\n",
              "</style>\n",
              "<table border=\"1\" class=\"dataframe\">\n",
              "  <thead>\n",
              "    <tr style=\"text-align: right;\">\n",
              "      <th></th>\n",
              "      <th>id</th>\n",
              "      <th>keyword</th>\n",
              "      <th>location</th>\n",
              "      <th>text</th>\n",
              "      <th>target</th>\n",
              "    </tr>\n",
              "  </thead>\n",
              "  <tbody>\n",
              "    <tr>\n",
              "      <th>0</th>\n",
              "      <td>1</td>\n",
              "      <td>NaN</td>\n",
              "      <td>NaN</td>\n",
              "      <td>Our Deeds are the Reason of this #earthquake M...</td>\n",
              "      <td>1</td>\n",
              "    </tr>\n",
              "    <tr>\n",
              "      <th>1</th>\n",
              "      <td>4</td>\n",
              "      <td>NaN</td>\n",
              "      <td>NaN</td>\n",
              "      <td>Forest fire near La Ronge Sask. Canada</td>\n",
              "      <td>1</td>\n",
              "    </tr>\n",
              "    <tr>\n",
              "      <th>2</th>\n",
              "      <td>5</td>\n",
              "      <td>NaN</td>\n",
              "      <td>NaN</td>\n",
              "      <td>All residents asked to 'shelter in place' are ...</td>\n",
              "      <td>1</td>\n",
              "    </tr>\n",
              "    <tr>\n",
              "      <th>3</th>\n",
              "      <td>6</td>\n",
              "      <td>NaN</td>\n",
              "      <td>NaN</td>\n",
              "      <td>13,000 people receive #wildfires evacuation or...</td>\n",
              "      <td>1</td>\n",
              "    </tr>\n",
              "    <tr>\n",
              "      <th>4</th>\n",
              "      <td>7</td>\n",
              "      <td>NaN</td>\n",
              "      <td>NaN</td>\n",
              "      <td>Just got sent this photo from Ruby #Alaska as ...</td>\n",
              "      <td>1</td>\n",
              "    </tr>\n",
              "  </tbody>\n",
              "</table>\n",
              "</div>"
            ],
            "text/plain": [
              "   id keyword location                                               text  \\\n",
              "0   1     NaN      NaN  Our Deeds are the Reason of this #earthquake M...   \n",
              "1   4     NaN      NaN             Forest fire near La Ronge Sask. Canada   \n",
              "2   5     NaN      NaN  All residents asked to 'shelter in place' are ...   \n",
              "3   6     NaN      NaN  13,000 people receive #wildfires evacuation or...   \n",
              "4   7     NaN      NaN  Just got sent this photo from Ruby #Alaska as ...   \n",
              "\n",
              "   target  \n",
              "0       1  \n",
              "1       1  \n",
              "2       1  \n",
              "3       1  \n",
              "4       1  "
            ]
          },
          "execution_count": 4,
          "metadata": {},
          "output_type": "execute_result"
        }
      ],
      "source": [
        "data.head()"
      ]
    },
    {
      "cell_type": "code",
      "execution_count": 5,
      "metadata": {
        "id": "f49NdWY23HvL"
      },
      "outputs": [],
      "source": [
        "from sklearn.model_selection import train_test_split\n",
        "\n",
        "train, test = train_test_split(data, test_size=0.3, random_state=42)"
      ]
    },
    {
      "attachments": {},
      "cell_type": "markdown",
      "metadata": {
        "id": "YlLemInT3HvL"
      },
      "source": [
        "## Задание 1 (0.5 балла)\n",
        "\n",
        "Выведете на экран информацию о пропусках в данных. Если пропуски присутствуют заполните их пустой строкой."
      ]
    },
    {
      "cell_type": "code",
      "execution_count": 6,
      "metadata": {
        "id": "96aJxmkV4105"
      },
      "outputs": [
        {
          "data": {
            "text/plain": [
              "False"
            ]
          },
          "execution_count": 6,
          "metadata": {},
          "output_type": "execute_result"
        }
      ],
      "source": [
        "train.isnull().any() # есть пропуски keyword и location\n",
        "test.isnull().any()  # аналогично\n",
        "\n",
        "# заполнили пропуски \n",
        "train.fillna('', inplace=True)\n",
        "test.fillna('', inplace=True)\n",
        "\n",
        "# теперь все хорошо\n",
        "train.isnull().any().any() # False \n",
        "test.isnull().any().any()  # False "
      ]
    },
    {
      "attachments": {},
      "cell_type": "markdown",
      "metadata": {
        "id": "A8CPBUal3HvL"
      },
      "source": [
        "## Задание 2 (1 балл)\n",
        "Давайте немного посмотрим на наши данные. Визуализируйте (где явно просят) или выведете информацию о следующем:\n",
        "\n",
        "1. Какое распределение классов в обучающей выборке?\n"
      ]
    },
    {
      "cell_type": "code",
      "execution_count": 7,
      "metadata": {
        "id": "WvJ_EU9o5BGm"
      },
      "outputs": [
        {
          "name": "stdout",
          "output_type": "stream",
          "text": [
            "Класс 0: 56.75%\n",
            "Класс 1: 43.25%\n"
          ]
        }
      ],
      "source": [
        "# train.target.unique() - убедились, что класса всего два [0, 1]\n",
        "total_count = train.shape[0]\n",
        "false_count = (train.target == 0).sum()\n",
        "print(f\"Класс 0: {round(100 * false_count/total_count, 2)}%\")\n",
        "print(f\"Класс 1: {100 - round(100 * false_count/total_count, 2)}%\")"
      ]
    },
    {
      "attachments": {},
      "cell_type": "markdown",
      "metadata": {
        "id": "f08KScbP5q2y"
      },
      "source": [
        "2. Посмотрите на колонку \"keyword\" - возьмите 10 наиболее встречающихся значений, постройте ступенчатую диаграмму распределения классов в зависимости от значения keyword, сделайте выводы."
      ]
    },
    {
      "cell_type": "code",
      "execution_count": 8,
      "metadata": {
        "id": "WSCb0htu5w_Y"
      },
      "outputs": [],
      "source": [
        "popular_keywords = np.array(train.keyword.value_counts()[1:11].index) # самое популярное - пустое значение, его пропустили"
      ]
    },
    {
      "cell_type": "code",
      "execution_count": 35,
      "metadata": {
        "colab": {
          "base_uri": "https://localhost:8080/",
          "height": 372
        },
        "id": "r9wSwm4L9REm",
        "outputId": "3c6827d4-d35f-47ac-c756-6ab4740ed0b9"
      },
      "outputs": [
        {
          "data": {
            "image/png": "[encoded data removed]",
            "text/plain": [
              "<Figure size 1008x576 with 1 Axes>"
            ]
          },
          "metadata": {
            "needs_background": "light"
          },
          "output_type": "display_data"
        }
      ],
      "source": [
        "plt.subplots(figsize=(14,8))\n",
        "sns.histplot(data=train[train.keyword.isin(popular_keywords)], x=\"keyword\", hue=\"target\", multiple=\"stack\")\n",
        "plt.xlabel(\"Keywords\")\n",
        "plt.ylabel(\"Count\")\n",
        "plt.legend([\"Negative\", \"Positive\"])\n",
        "plt.show()"
      ]
    },
    {
      "attachments": {},
      "cell_type": "markdown",
      "metadata": {
        "id": "l4al3g9E-P09"
      },
      "source": [
        "**Выводы**: \n",
        "Целевая переменная очень хорошо перемешана между различными ключевыми словами, так что по ним не удастся провести классификацию. Исключениями являются лишь некоторые слова, но они покрывают очень маленькую часть датасета, чтобы предсказывать что-то."
      ]
    },
    {
      "attachments": {},
      "cell_type": "markdown",
      "metadata": {
        "id": "c006nNBP3HvM"
      },
      "source": [
        "## Задание 3 (0.5 балла) \n",
        "\n",
        "В этом задании предлагается объединить все три текстовых столбца в один (просто сконкатенировать cтроки) и убрать столбец с индексом."
      ]
    },
    {
      "cell_type": "code",
      "execution_count": 10,
      "metadata": {
        "colab": {
          "base_uri": "https://localhost:8080/",
          "height": 143
        },
        "id": "GdF9gFmL-c0r",
        "outputId": "ebe008b7-4d0e-4bc2-89f3-60a575c1b1fd"
      },
      "outputs": [
        {
          "data": {
            "text/html": [
              "<div>\n",
              "<style scoped>\n",
              "    .dataframe tbody tr th:only-of-type {\n",
              "        vertical-align: middle;\n",
              "    }\n",
              "\n",
              "    .dataframe tbody tr th {\n",
              "        vertical-align: top;\n",
              "    }\n",
              "\n",
              "    .dataframe thead th {\n",
              "        text-align: right;\n",
              "    }\n",
              "</style>\n",
              "<table border=\"1\" class=\"dataframe\">\n",
              "  <thead>\n",
              "    <tr style=\"text-align: right;\">\n",
              "      <th></th>\n",
              "      <th>id</th>\n",
              "      <th>keyword</th>\n",
              "      <th>location</th>\n",
              "      <th>text</th>\n",
              "      <th>target</th>\n",
              "    </tr>\n",
              "  </thead>\n",
              "  <tbody>\n",
              "    <tr>\n",
              "      <th>6590</th>\n",
              "      <td>9436</td>\n",
              "      <td>survivors</td>\n",
              "      <td>Marietta, GA</td>\n",
              "      <td>Stemming from my #Cubs talk- the team rosters ...</td>\n",
              "      <td>1</td>\n",
              "    </tr>\n",
              "    <tr>\n",
              "      <th>7122</th>\n",
              "      <td>10203</td>\n",
              "      <td>violent%20storm</td>\n",
              "      <td></td>\n",
              "      <td>If you were the NWS wth a rotating storm w/ a ...</td>\n",
              "      <td>1</td>\n",
              "    </tr>\n",
              "    <tr>\n",
              "      <th>2769</th>\n",
              "      <td>3980</td>\n",
              "      <td>devastation</td>\n",
              "      <td>Atlanta g.a.</td>\n",
              "      <td>http://t.co/Gxgm1T3W0J From Devastation to Ela...</td>\n",
              "      <td>0</td>\n",
              "    </tr>\n",
              "  </tbody>\n",
              "</table>\n",
              "</div>"
            ],
            "text/plain": [
              "         id          keyword      location  \\\n",
              "6590   9436        survivors  Marietta, GA   \n",
              "7122  10203  violent%20storm                 \n",
              "2769   3980      devastation  Atlanta g.a.   \n",
              "\n",
              "                                                   text  target  \n",
              "6590  Stemming from my #Cubs talk- the team rosters ...       1  \n",
              "7122  If you were the NWS wth a rotating storm w/ a ...       1  \n",
              "2769  http://t.co/Gxgm1T3W0J From Devastation to Ela...       0  "
            ]
          },
          "execution_count": 10,
          "metadata": {},
          "output_type": "execute_result"
        }
      ],
      "source": [
        "train.loc[[6590, 7122, 2769]]"
      ]
    },
    {
      "cell_type": "code",
      "execution_count": 11,
      "metadata": {
        "id": "lwwJKX_l-eoh"
      },
      "outputs": [],
      "source": [
        "train_new = train.copy()\n",
        "train_new['text'] = train[['keyword', 'location', 'text']].agg(' '.join, axis=1)\n",
        "\n",
        "train_new.drop(columns=[\"id\", \"keyword\", \"location\"], inplace=True)\n",
        "\n",
        "test_new = test.copy()\n",
        "test_new['text'] = test[['keyword', 'location', 'text']].agg(' '.join, axis=1)\n",
        "\n",
        "test_new.drop(columns=[\"id\", \"keyword\", \"location\"], inplace=True)"
      ]
    },
    {
      "cell_type": "code",
      "execution_count": 12,
      "metadata": {
        "colab": {
          "base_uri": "https://localhost:8080/",
          "height": 143
        },
        "id": "jk7P70XX_CpT",
        "outputId": "5cf01b29-8ada-46d7-f7ee-74e7aed37996"
      },
      "outputs": [
        {
          "data": {
            "text/html": [
              "<div>\n",
              "<style scoped>\n",
              "    .dataframe tbody tr th:only-of-type {\n",
              "        vertical-align: middle;\n",
              "    }\n",
              "\n",
              "    .dataframe tbody tr th {\n",
              "        vertical-align: top;\n",
              "    }\n",
              "\n",
              "    .dataframe thead th {\n",
              "        text-align: right;\n",
              "    }\n",
              "</style>\n",
              "<table border=\"1\" class=\"dataframe\">\n",
              "  <thead>\n",
              "    <tr style=\"text-align: right;\">\n",
              "      <th></th>\n",
              "      <th>text</th>\n",
              "      <th>target</th>\n",
              "    </tr>\n",
              "  </thead>\n",
              "  <tbody>\n",
              "    <tr>\n",
              "      <th>6590</th>\n",
              "      <td>survivors Marietta, GA Stemming from my #Cubs ...</td>\n",
              "      <td>1</td>\n",
              "    </tr>\n",
              "    <tr>\n",
              "      <th>7122</th>\n",
              "      <td>violent%20storm  If you were the NWS wth a rot...</td>\n",
              "      <td>1</td>\n",
              "    </tr>\n",
              "    <tr>\n",
              "      <th>2769</th>\n",
              "      <td>devastation Atlanta g.a. http://t.co/Gxgm1T3W0...</td>\n",
              "      <td>0</td>\n",
              "    </tr>\n",
              "  </tbody>\n",
              "</table>\n",
              "</div>"
            ],
            "text/plain": [
              "                                                   text  target\n",
              "6590  survivors Marietta, GA Stemming from my #Cubs ...       1\n",
              "7122  violent%20storm  If you were the NWS wth a rot...       1\n",
              "2769  devastation Atlanta g.a. http://t.co/Gxgm1T3W0...       0"
            ]
          },
          "execution_count": 12,
          "metadata": {},
          "output_type": "execute_result"
        }
      ],
      "source": [
        "train_new.loc[[6590, 7122, 2769]]"
      ]
    },
    {
      "attachments": {},
      "cell_type": "markdown",
      "metadata": {
        "id": "ViXdGTxP3HvM"
      },
      "source": [
        "## Задание 4 (0.5 балла)\n",
        "\n",
        "Далее мы будем пока работать только с train частью.\n",
        "\n",
        "1. Предобработайте данные (train часть) с помощью CountVectorizer.\n",
        "2. Какого размера получилась матрица?\n"
      ]
    },
    {
      "cell_type": "code",
      "execution_count": 13,
      "metadata": {
        "id": "oB1MTqUVAbPA"
      },
      "outputs": [
        {
          "data": {
            "text/plain": [
              "(5329, 18455)"
            ]
          },
          "execution_count": 13,
          "metadata": {},
          "output_type": "execute_result"
        }
      ],
      "source": [
        "from sklearn.feature_extraction.text import CountVectorizer\n",
        "\n",
        "cnt_vec = CountVectorizer()\n",
        "matrix = cnt_vec.fit_transform(train_new.text)\n",
        "matrix.shape # очень много слов"
      ]
    },
    {
      "attachments": {},
      "cell_type": "markdown",
      "metadata": {
        "id": "A4waLlnC3HvM"
      },
      "source": [
        "## Задание 5 (1 балл)\n",
        "\n",
        "В предыдущем пункте у вас должна была получиться достаточно большая матрица.\n",
        "Если вы взгляните на текст, то увидете, что там есть множество специальных символов, ссылок и прочего мусора.\n",
        "\n",
        "Давайте также посмотрим на словарь, который получился в результате построения CountVectorizer, его можно найти в поле vocabulary_ инстанса этого класса. Давайте напишем функцию, которая печает ответы на следующие вопросы:\n",
        "\n",
        "1. Найдите в этом словаре все слова, которые содержат цифры. Сколько таких слов нашлось?\n",
        "\n",
        "2. Найдите все слова, которые содержат символы пунктуации. Сколько таких слов нашлось? \n",
        "\n",
        "3. Сколько хэштегов (токен начинается на #) и упоминаний (токен начинается на @) осталось в словаре?"
      ]
    },
    {
      "cell_type": "code",
      "execution_count": 14,
      "metadata": {
        "id": "7PhQSWqcHhU8"
      },
      "outputs": [],
      "source": [
        "def contains_digit(s: str) -> bool:\n",
        "    return any(l.isdigit() for l in s)\n",
        "\n",
        "def contains_punctuation(s: str) -> bool:\n",
        "    punc = '''!()-[]{};:'\"\\\\,<>./?$%^&@#*_~`'''\n",
        "    for l in s:\n",
        "        if l in punc:\n",
        "            return True \n",
        "    return False \n",
        "\n",
        "def is_hashtag(s: str) -> bool:\n",
        "    return s[0] == \"#\"\n",
        "\n",
        "def is_mention(s: str) -> bool:\n",
        "    return s[0] == \"@\" and s[1:].isalnum()\n",
        "\n",
        "def investigate_vocabulary(vocabulary):\n",
        "    counts = {l: 0 for l in \"dphm\" }\n",
        "    for word in vocabulary:\n",
        "        counts[\"d\"] += contains_digit(word)\n",
        "        counts[\"p\"] += contains_punctuation(word)\n",
        "        counts[\"h\"] += is_hashtag(word)\n",
        "        counts[\"m\"] += is_mention(word)\n",
        "    \n",
        "    print('With digit:      ', counts[\"d\"]\n",
        "          )\n",
        "    print('With punctuation:', counts[\"p\"]\n",
        "          )\n",
        "    print('Hashtags:        ', counts[\"h\"]\n",
        "          )\n",
        "    print('Mentions:        ', counts[\"m\"]\n",
        "          )\n",
        "\n",
        "\n"
      ]
    },
    {
      "cell_type": "code",
      "execution_count": 15,
      "metadata": {
        "colab": {
          "base_uri": "https://localhost:8080/"
        },
        "id": "s8hL5ZcQIdp6",
        "outputId": "c8b50455-38f2-455d-c9f6-96b03a7e09ce"
      },
      "outputs": [
        {
          "name": "stdout",
          "output_type": "stream",
          "text": [
            "With digit:       2\n",
            "With punctuation: 7\n",
            "Hashtags:         1\n",
            "Mentions:         3\n"
          ]
        }
      ],
      "source": [
        "dummy_vocab = {'th1nk' : 0,\n",
        "               'think333' : 1,\n",
        "               'think.' : 2,\n",
        "               'th!nk' : 3,\n",
        "               'th...nk' : 4,\n",
        "               '#think' : 5,\n",
        "               '@think' : 6,\n",
        "               '@thinking':7,\n",
        "               '@nothink' : 8,\n",
        "               'think' : 9}\n",
        "investigate_vocabulary(dummy_vocab)"
      ]
    },
    {
      "cell_type": "code",
      "execution_count": 16,
      "metadata": {
        "id": "VpW8R_SuKR_l"
      },
      "outputs": [
        {
          "name": "stdout",
          "output_type": "stream",
          "text": [
            "With digit:       3812\n",
            "With punctuation: 315\n",
            "Hashtags:         0\n",
            "Mentions:         0\n"
          ]
        }
      ],
      "source": [
        "investigate_vocabulary( cnt_vec.vocabulary_\n",
        "                       )"
      ]
    },
    {
      "attachments": {},
      "cell_type": "markdown",
      "metadata": {
        "id": "bfNLaxX93HvM"
      },
      "source": [
        "## Задание 6 (0.5 балла)\n",
        "\n",
        "Вспомним, что на семинаре по текстам мы узнали, что в nltk есть специальный токенизатор для текстов - TweetTokenizer. Попробуем применить CountVectorizer с этим токенизатором. Ответьте на все вопросы из предыдущего пункта для TweetTokenizer и сравните результаты."
      ]
    },
    {
      "cell_type": "code",
      "execution_count": 17,
      "metadata": {
        "id": "xnlRoXUS3HvM"
      },
      "outputs": [],
      "source": [
        "from nltk.tokenize import TweetTokenizer\n",
        "# Чтобы узнать, какие параметры есть у этого токенайзера - используйте help(TweetTokenizer)\n",
        "# Для того, чтобы передать токенайзер в CountVectorizer используйте параметр tokenizer\n",
        "tknzr = TweetTokenizer()\n",
        "texts = texts_tokenized = [\n",
        "    \" \".join([w for w in tknzr.tokenize(t) if w.isalpha()]) for t in train_new.text\n",
        "]\n"
      ]
    },
    {
      "cell_type": "code",
      "execution_count": 18,
      "metadata": {
        "id": "8lPMIf6UKccT"
      },
      "outputs": [
        {
          "data": {
            "text/plain": [
              "(5329, 11702)"
            ]
          },
          "execution_count": 18,
          "metadata": {},
          "output_type": "execute_result"
        }
      ],
      "source": [
        "cnt_vec = CountVectorizer() \n",
        "matrix = cnt_vec.fit_transform(texts)\n",
        "matrix.shape # на треть меньше"
      ]
    },
    {
      "cell_type": "code",
      "execution_count": 19,
      "metadata": {
        "id": "7oR5kNKVLLpm"
      },
      "outputs": [
        {
          "name": "stdout",
          "output_type": "stream",
          "text": [
            "With digit:       0\n",
            "With punctuation: 0\n",
            "Hashtags:         0\n",
            "Mentions:         0\n"
          ]
        }
      ],
      "source": [
        "investigate_vocabulary(cnt_vec.vocabulary_\n",
        "                       )"
      ]
    },
    {
      "attachments": {},
      "cell_type": "markdown",
      "metadata": {
        "id": "Wetr80-ILULV"
      },
      "source": [
        "**Сравнение:** \n",
        "Мы уменьшили размеры массива векторов слов и избавились от лишних символов, которые не несут смысловой нагрузки для нашей задачи. Размер массива уменьшился приблизительно на треть, но есть слова, которые повторяются в разных формах."
      ]
    },
    {
      "attachments": {},
      "cell_type": "markdown",
      "metadata": {
        "id": "6_k_-i1x3HvM"
      },
      "source": [
        "## Задание 7 (2 балла)\n",
        "\n",
        "В scikit-learn мы можем оценивать процесс подсчета матрицы через CountVectorizer. У CountVectorizer, как и у других наследников \\_VectorizerMixin, есть аргумент tokenizer и preprocessor. preprocessor применится в самом начале к каждой строке вашего датасета, tokenizer же должен принять строку и вернуть токены.\n",
        "Давайте напишем кастомный токенайзер, которые сделает все, что нам нужно: \n",
        "\n",
        "0. Приведет все буквы к нижнему регистру\n",
        "1. Разобьет текст на токены с помощью TweetTokenizer из пакета nltk\n",
        "2. Удалит все токены содержащие не латинские буквы, кроме смайликов (будем считать ими токены содержащие только пунктуацию и, как минимум, одну скобочку) и хэштегов, которые после начальной # содержат только латинские буквы.\n",
        "3. Удалит все токены, которые перечислены в nltk.corpus.stopwords.words('english')\n",
        "4. Проведет стемминг с помощью SnowballStemmer\n",
        "\n"
      ]
    },
    {
      "cell_type": "code",
      "execution_count": 20,
      "metadata": {
        "id": "qhwmi7DEMD25"
      },
      "outputs": [
        {
          "name": "stderr",
          "output_type": "stream",
          "text": [
            "[nltk_data] Downloading package stopwords to\n",
            "[nltk_data]     C:\\Users\\TechnoDX\\AppData\\Roaming\\nltk_data...\n",
            "[nltk_data]   Package stopwords is already up-to-date!\n"
          ]
        }
      ],
      "source": [
        "import re \n",
        "import nltk\n",
        "nltk.download('stopwords')\n",
        "import nltk.corpus as corpus\n",
        "from nltk.stem.snowball import SnowballStemmer\n",
        "stemmer = SnowballStemmer(\"english\")\n",
        "tknzr = TweetTokenizer()\n",
        "stopwords = corpus.stopwords.words('english')\n",
        "punc = '''!()-[]{};:'\"\\\\,<>|./?$%^&@#*_~`'''\n",
        "\n",
        "def contains_only_latin_letters(s: str) -> bool:\n",
        "    return bool(re.match(r'^[a-zA-Z]+$', s))\n",
        "\n",
        "def is_emoji(s: str) -> bool:\n",
        "    b = \"(){}[]\"\n",
        "    return all(l in punc for l in s) and any(l in b for l in s)\n",
        "\n",
        "def is_hashtag(s: str) -> bool:\n",
        "    return s[0] == '#' and s[1:].isalpha()\n",
        "\n",
        "def custom_tokenizer(s: str) -> List[str]:  \n",
        "    arr = tknzr.tokenize(s)  \n",
        "    res = []\n",
        "    for word in arr:\n",
        "        if is_emoji(word):\n",
        "            res.append(word)\n",
        "            continue\n",
        "        if is_hashtag(word):\n",
        "            res.append(word.lower())\n",
        "            continue\n",
        "        word = stemmer.stem(word.lower())\n",
        "        if not contains_only_latin_letters(word):\n",
        "            continue\n",
        "        if not word in stopwords:\n",
        "            res.append(word)\n",
        "    return res"
      ]
    },
    {
      "cell_type": "code",
      "execution_count": 21,
      "metadata": {
        "colab": {
          "base_uri": "https://localhost:8080/"
        },
        "id": "vYzPZzf8O6vj",
        "outputId": "b1107f8a-eef7-49f7-8ed3-910be791d645"
      },
      "outputs": [
        {
          "data": {
            "text/plain": [
              "['love', 'paint', ':-)', '#art']"
            ]
          },
          "execution_count": 21,
          "metadata": {},
          "output_type": "execute_result"
        }
      ],
      "source": [
        "custom_tokenizer('She LOVES painting :-) #art')"
      ]
    },
    {
      "attachments": {},
      "cell_type": "markdown",
      "metadata": {
        "id": "2S_-ThAf5It4"
      },
      "source": [
        "Продемонстрируйте работу вашей функции на первых десяти текстах в обучающей выборке."
      ]
    },
    {
      "cell_type": "code",
      "execution_count": 22,
      "metadata": {
        "id": "A1fh3_itPz7D"
      },
      "outputs": [
        {
          "name": "stdout",
          "output_type": "stream",
          "text": [
            "['bridg', 'ash', 'australia', 'collaps', 'trent', 'bridg', 'among', 'worst', 'histori', 'england', 'bundl', 'australia']\n",
            "['hail', 'carol', 'stream', 'illinoi', 'great', 'michigan', 'techniqu', 'camp', 'thank', '#goblue', '#wrestleon']\n",
            "['polic', 'houston', 'cnn', 'tennesse', 'movi', 'theater', 'shoot', 'suspect', 'kill', 'polic']\n",
            "['riot', 'still', 'riot', 'coupl', 'hour', 'left', 'class']\n",
            "['wound', 'lake', 'highland', 'crack', 'path', 'wipe', 'morn', 'dure', 'beach', 'run', 'surfac', 'wound', 'left', 'elbow', 'right', 'knee']\n",
            "['airplan', 'somewher', 'expert', 'franc', 'begin', 'examin', 'airplan', 'debri', 'found', 'reunion', 'island', 'french', 'air', 'accid', 'expert', '#mlb']\n",
            "['bloodi', 'isol', 'citi', 'world', 'perth', 'came', 'kill', 'indian', 'fun', 'video', 'smirk', 'remorseless', 'pakistani', 'killer', 'show', 'boast']\n",
            "['burn', 'except', 'idk', 'realli', 'burn']\n",
            "['destroy', '(', 'ask', ')', 'destroy', 'hous']\n",
            "['wound', 'maracay', 'nirgua', 'venezuela', 'polic', 'offic', 'wound', 'suspect', 'dead', 'exchang', 'shot']\n"
          ]
        }
      ],
      "source": [
        "print(*map(custom_tokenizer, train_new[:10].text), sep=\"\\n\")"
      ]
    },
    {
      "attachments": {},
      "cell_type": "markdown",
      "metadata": {
        "id": "a5lNZ4tb3HvN"
      },
      "source": [
        "## Задание 8 (1 балл)\n",
        "\n",
        "1. Примените CountVectorizer с реализованным выше токенизатором к обучающим и тестовым выборкам.\n"
      ]
    },
    {
      "cell_type": "code",
      "execution_count": 23,
      "metadata": {
        "id": "LDqixz7QQEbn"
      },
      "outputs": [],
      "source": [
        "from sklearn.preprocessing import MaxAbsScaler\n",
        "vectorizer = CountVectorizer(tokenizer=custom_tokenizer, token_pattern=None\n",
        "                             )\n",
        "def process(train, test, vectorizer):\n",
        "    train_X = vectorizer.fit_transform(train.text) \n",
        "    test_X = vectorizer.transform(test.text) \n",
        "    train_y = train_new.target\n",
        "    test_y = test_new.target\n",
        "\n",
        "    scaler = MaxAbsScaler()\n",
        "    train_X = scaler.fit_transform(train_X)\n",
        "    test_X = scaler.transform(test_X)\n",
        "    return train_X, train_y, test_X, test_y \n",
        "\n",
        "train_X, train_y, test_X, test_y = process(train_new, test_new, vectorizer)\n"
      ]
    },
    {
      "attachments": {},
      "cell_type": "markdown",
      "metadata": {
        "id": "YcetwuEi5ds9"
      },
      "source": [
        "2. Обучите LogisticRegression на полученных признаках.\n"
      ]
    },
    {
      "cell_type": "code",
      "execution_count": 24,
      "metadata": {
        "id": "BVj03QV2QbWl"
      },
      "outputs": [],
      "source": [
        "from sklearn.linear_model import LogisticRegression\n",
        "\n",
        "\n",
        "regression = LogisticRegression(max_iter=1000, random_state=42)\n",
        "regression.fit(train_X, train_y);"
      ]
    },
    {
      "attachments": {},
      "cell_type": "markdown",
      "metadata": {
        "id": "6Ch6uz2P5e-T"
      },
      "source": [
        "3. Посчитайте метрику f1-score на тестовых данных."
      ]
    },
    {
      "cell_type": "code",
      "execution_count": 25,
      "metadata": {
        "colab": {
          "base_uri": "https://localhost:8080/"
        },
        "id": "osyC0pdT3cSD",
        "outputId": "cd957d5f-5118-4b7f-d7ba-01bb5a524086"
      },
      "outputs": [
        {
          "name": "stdout",
          "output_type": "stream",
          "text": [
            "F1 score: 0.7472\n"
          ]
        }
      ],
      "source": [
        "from sklearn.metrics import f1_score\n",
        "\n",
        "print(\"F1 score:\", np.round(f1_score(test_y, regression.predict(test_X)), 4))"
      ]
    },
    {
      "attachments": {},
      "cell_type": "markdown",
      "metadata": {
        "id": "aFIEYOMZ3HvN"
      },
      "source": [
        "## Задание 9 (1 балл)\n",
        "\n",
        "1. Повторите 8 задание, но с tf-idf векторизатором. Как изменилось качество?\n"
      ]
    },
    {
      "cell_type": "code",
      "execution_count": 26,
      "metadata": {
        "colab": {
          "base_uri": "https://localhost:8080/"
        },
        "id": "cDqs61hl3ve3",
        "outputId": "fdd72125-dfde-4183-d614-3b0bc9002ada"
      },
      "outputs": [
        {
          "name": "stderr",
          "output_type": "stream",
          "text": [
            "c:\\Users\\TechnoDX\\AppData\\Local\\Programs\\Python\\Python310\\lib\\site-packages\\sklearn\\feature_extraction\\text.py:528: UserWarning: The parameter 'token_pattern' will not be used since 'tokenizer' is not None'\n",
            "  warnings.warn(\n"
          ]
        },
        {
          "name": "stdout",
          "output_type": "stream",
          "text": [
            "F1 score: 0.7446\n"
          ]
        }
      ],
      "source": [
        "from sklearn.feature_extraction.text import TfidfVectorizer\n",
        "\n",
        "vectorizer = TfidfVectorizer(\n",
        "    tokenizer=custom_tokenizer,\n",
        ")\n",
        "\n",
        "train_X, train_y, test_X, test_y = process(train_new, test_new, vectorizer)\n",
        "\n",
        "regressionTI = LogisticRegression(max_iter=1000, random_state=42)\n",
        "regressionTI.fit(train_X, train_y)\n",
        "\n",
        "print(\"F1 score:\", np.round(f1_score(test_y, regressionTI.predict(test_X)), 4))"
      ]
    },
    {
      "attachments": {},
      "cell_type": "markdown",
      "metadata": {
        "id": "SXaNclTZSFjO"
      },
      "source": [
        "1. **Ответ:** Качество немного упало. Возможно используется много редких слов и почти всегда встречаются одинаковые слова, что делает их веса приблизительно одинаковыми и не несет ценности для линейной регрессии."
      ]
    },
    {
      "attachments": {},
      "cell_type": "markdown",
      "metadata": {
        "id": "CPtk0lCA5POY"
      },
      "source": [
        "2. Мы можем еще сильнее уменьшить размер нашей матрицы, если отбросим значения df близкие к единице. Скорее всего такие слова не несут много информации о категории, так как встречаются достаточно часто. Ограничьте максимальный df в параметрах TfIdfVectorizer, поставьте верхнюю границу равную 0.9. Как изменился размер матрицы, как изменилось качество?\n"
      ]
    },
    {
      "cell_type": "code",
      "execution_count": 27,
      "metadata": {
        "colab": {
          "base_uri": "https://localhost:8080/"
        },
        "id": "EU-MRXyRSHLm",
        "outputId": "6b5353a8-5f3b-4220-fcd4-64eecfe20054"
      },
      "outputs": [
        {
          "name": "stdout",
          "output_type": "stream",
          "text": [
            "Количество до: 51692\n"
          ]
        },
        {
          "name": "stderr",
          "output_type": "stream",
          "text": [
            "c:\\Users\\TechnoDX\\AppData\\Local\\Programs\\Python\\Python310\\lib\\site-packages\\sklearn\\feature_extraction\\text.py:528: UserWarning: The parameter 'token_pattern' will not be used since 'tokenizer' is not None'\n",
            "  warnings.warn(\n"
          ]
        },
        {
          "name": "stdout",
          "output_type": "stream",
          "text": [
            "Количество после: 51692\n"
          ]
        }
      ],
      "source": [
        "vectorizer = TfidfVectorizer(\n",
        "    tokenizer=custom_tokenizer,\n",
        "    max_df=0.9\n",
        ")\n",
        "print(\"Количество до:\", train_X.count_nonzero())\n",
        "train_X, train_y, test_X, test_y = process(train_new, test_new, vectorizer)\n",
        "print(\"Количество после:\", train_X.count_nonzero())\n"
      ]
    },
    {
      "cell_type": "code",
      "execution_count": 28,
      "metadata": {
        "id": "z1TkO9HeSTJ9"
      },
      "outputs": [
        {
          "name": "stdout",
          "output_type": "stream",
          "text": [
            "F1 score: 0.7446\n"
          ]
        }
      ],
      "source": [
        "regressionTI = LogisticRegression(max_iter=1000, random_state=42)\n",
        "regressionTI.fit(train_X, train_y)\n",
        "\n",
        "print(\"F1 score:\", np.round(f1_score(test_y, regressionTI.predict(test_X)), 4))"
      ]
    },
    {
      "attachments": {},
      "cell_type": "markdown",
      "metadata": {
        "id": "4Two_O3rSVmh"
      },
      "source": [
        "2. **Ответ:** Значения df были порядка 0.01, так что добавление верхней границы не изменило число слов. Зато если поставить max_df = 0.01, то все будет хорошо и размер матрицы упадет от 51692 элементов до 40001 элемента, то есть где-то на 23%. F1 score при этом упадет до 70%, что не очень хорошо"
      ]
    },
    {
      "attachments": {},
      "cell_type": "markdown",
      "metadata": {
        "id": "VhyjbI5X5QnG"
      },
      "source": [
        "3. Также мы можем уменьшить размер матрицы, удаляя слова со слишком маленьким df. Удалось ли добиться улучшения качества? "
      ]
    },
    {
      "cell_type": "code",
      "execution_count": 29,
      "metadata": {
        "colab": {
          "base_uri": "https://localhost:8080/"
        },
        "id": "9mNpIxv6SfKc",
        "outputId": "607ec22e-1fdb-4c29-bbc4-6447ed266349"
      },
      "outputs": [
        {
          "name": "stdout",
          "output_type": "stream",
          "text": [
            "Количество до: 51692\n"
          ]
        },
        {
          "name": "stderr",
          "output_type": "stream",
          "text": [
            "c:\\Users\\TechnoDX\\AppData\\Local\\Programs\\Python\\Python310\\lib\\site-packages\\sklearn\\feature_extraction\\text.py:528: UserWarning: The parameter 'token_pattern' will not be used since 'tokenizer' is not None'\n",
            "  warnings.warn(\n"
          ]
        },
        {
          "name": "stdout",
          "output_type": "stream",
          "text": [
            "Количество после: 37694\n",
            "F1 score: 0.7442\n"
          ]
        }
      ],
      "source": [
        "vectorizer = TfidfVectorizer(\n",
        "    tokenizer=custom_tokenizer,\n",
        "    min_df=0.001\n",
        ")\n",
        "print(\"Количество до:\", train_X.count_nonzero())\n",
        "train_X, train_y, test_X, test_y = process(train_new, test_new, vectorizer)\n",
        "print(\"Количество после:\", train_X.count_nonzero())\n",
        "\n",
        "regressionTI = LogisticRegression(max_iter=1000, random_state=42)\n",
        "regressionTI.fit(train_X, train_y)\n",
        "\n",
        "print(\"F1 score:\", np.round(f1_score(test_y, regressionTI.predict(test_X)), 4))"
      ]
    },
    {
      "attachments": {},
      "cell_type": "markdown",
      "metadata": {
        "id": "imeD8skxSqdg"
      },
      "source": [
        "1. **Ответ:** Этот результат намного лучше, так как мы сохранили качество по F1 мере, при этом сократив размер массива на 37%! (размер я считаю с помощью `count_nonzero()`, чтобы получить количество ненулевых элементов в разряженной матрице)"
      ]
    },
    {
      "attachments": {},
      "cell_type": "markdown",
      "metadata": {
        "id": "1l1sx4nB3HvN"
      },
      "source": [
        "## Задание 10 (1 балл)\n",
        "\n",
        "Еще один популяпный трюк, который позволит уменьшить количество признаков называется hashing trick. Его суть в том, то мы случайно группируем признаки ииии  ..... складываем их! А потом удаляем исходные признаки. В итоге все наши признаки это просто суммы исходных. Звучит странно, но это отлично работает. Давайте проверим этот трюк в нашем сеттинге.\n",
        "Также при таком подходе вам не нужно хранить словарь token->index, что тоже иногда полезно.\n",
        "\n",
        "1. Повторите задание 8 с HashingVectorizer, укажите количество фичей равное 5000.\n"
      ]
    },
    {
      "cell_type": "code",
      "execution_count": 30,
      "metadata": {
        "colab": {
          "base_uri": "https://localhost:8080/"
        },
        "id": "8qSoW894RXxz",
        "outputId": "720818f4-f774-4273-bb10-918ecc72ef44"
      },
      "outputs": [
        {
          "name": "stderr",
          "output_type": "stream",
          "text": [
            "c:\\Users\\TechnoDX\\AppData\\Local\\Programs\\Python\\Python310\\lib\\site-packages\\sklearn\\feature_extraction\\text.py:528: UserWarning: The parameter 'token_pattern' will not be used since 'tokenizer' is not None'\n",
            "  warnings.warn(\n"
          ]
        },
        {
          "name": "stdout",
          "output_type": "stream",
          "text": [
            "Новое количество: 51634\n",
            "F1 score: 0.726\n"
          ]
        }
      ],
      "source": [
        "from sklearn.feature_extraction.text import HashingVectorizer\n",
        "vectorizer = HashingVectorizer(\n",
        "    tokenizer=custom_tokenizer,\n",
        "    n_features=5000\n",
        ")\n",
        "train_X, train_y, test_X, test_y = process(train_new, test_new, vectorizer)\n",
        "print(\"Новое количество:\", train_X.count_nonzero())\n",
        "\n",
        "regressionTI = LogisticRegression(max_iter=1000, random_state=42)\n",
        "regressionTI.fit(train_X, train_y)\n",
        "\n",
        "print(\"F1 score:\", np.round(f1_score(test_y, regressionTI.predict(test_X)), 4))"
      ]
    },
    {
      "attachments": {},
      "cell_type": "markdown",
      "metadata": {
        "id": "1C3I4ceg6AG-"
      },
      "source": [
        "2. Какой из подходов показал самый высокий результат?"
      ]
    },
    {
      "attachments": {},
      "cell_type": "markdown",
      "metadata": {
        "id": "_bIfyVlOS9Lu"
      },
      "source": [
        "1. **Ответ:** По прежнему самый весокий результат показывает исходная функция `CountVectorizer`. Хотя лучшей попыткой я бы назвал уменьшение размеров через задание min_df, при которой качество практически не изменилось, но размер матрицы уменьшился на 37%"
      ]
    },
    {
      "attachments": {},
      "cell_type": "markdown",
      "metadata": {
        "id": "zylJ6l0R3HvN"
      },
      "source": [
        "## Задание 11 (1 балл)\n",
        "\n",
        "В этом задании нужно добиться f1 меры хотя в 0.75 на тестовых данных."
      ]
    },
    {
      "cell_type": "code",
      "execution_count": 31,
      "metadata": {
        "id": "GSTVApFeS-OY"
      },
      "outputs": [
        {
          "name": "stderr",
          "output_type": "stream",
          "text": [
            "c:\\Users\\TechnoDX\\AppData\\Local\\Programs\\Python\\Python310\\lib\\site-packages\\sklearn\\feature_extraction\\text.py:528: UserWarning: The parameter 'token_pattern' will not be used since 'tokenizer' is not None'\n",
            "  warnings.warn(\n"
          ]
        },
        {
          "name": "stdout",
          "output_type": "stream",
          "text": [
            "F1 score: 0.7515\n"
          ]
        }
      ],
      "source": [
        "vectorizer = TfidfVectorizer(ngram_range=(1,2), tokenizer=custom_tokenizer)\n",
        "\n",
        "train_X = vectorizer.fit_transform(train.text) \n",
        "test_X = vectorizer.transform(test.text) \n",
        "train_y = train_new.target\n",
        "test_y = test_new.target\n",
        "\n",
        "scaler = MaxAbsScaler()\n",
        "train_X = scaler.fit_transform(train_X)\n",
        "test_X = scaler.transform(test_X) \n",
        "\n",
        "regressionTI = LogisticRegression(max_iter=200, random_state=42)\n",
        "regressionTI.fit(train_X, train_y)\n",
        "\n",
        "print(\"F1 score:\", np.round(f1_score(test_y, regressionTI.predict(test_X)), 4))"
      ]
    },
    {
      "attachments": {},
      "cell_type": "markdown",
      "metadata": {},
      "source": [
        "Все отлично. Я взял train без `'location'` и `'keyword'` и все прошло отлично. Видимо эти данные путали регрессию, заставляя переобучаться "
      ]
    }
  ],
  "metadata": {
    "colab": {
      "collapsed_sections": [
        "YlLemInT3HvL",
        "A8CPBUal3HvL"
      ],
      "provenance": []
    },
    "kernelspec": {
      "display_name": "Python 3 (ipykernel)",
      "language": "python",
      "name": "python3"
    },
    "language_info": {
      "codemirror_mode": {
        "name": "ipython",
        "version": 3
      },
      "file_extension": ".py",
      "mimetype": "text/x-python",
      "name": "python",
      "nbconvert_exporter": "python",
      "pygments_lexer": "ipython3",
      "version": "3.10.6"
    }
  },
  "nbformat": 4,
  "nbformat_minor": 0
}
