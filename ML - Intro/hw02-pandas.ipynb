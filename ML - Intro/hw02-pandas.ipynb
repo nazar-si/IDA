{
 "cells": [
  {
   "cell_type": "markdown",
   "metadata": {
    "_uuid": "21c25e4f8bb31570029fd6b069131a5d00f84cf1"
   },
   "source": [
    "# Домашнее задание 2 (5 баллов).\n",
    "\n",
    "Все задания ниже имеют равный вес (5/16)."
   ]
  },
  {
   "cell_type": "code",
   "execution_count": 24,
   "metadata": {
    "_uuid": "568eb2d31004b87d22e119112ae01a1e75105f1d"
   },
   "outputs": [],
   "source": [
    "import pandas as pd"
   ]
  },
  {
   "cell_type": "markdown",
   "metadata": {},
   "source": [
    "#### Описание данных\n",
    "\n",
    "В папке Data находится информация о студентах. Всего 10 групп студентов. Файлы делятся на две категории:\n",
    "    * Students_info_i - информация о студентах из группы i\n",
    "    * Students_marks_i - оценки студентов из группы i за экзамены"
   ]
  },
  {
   "cell_type": "markdown",
   "metadata": {},
   "source": [
    "### Одно из важных достоинств pandas $-$ это удобные методы реляционного взаимодействия с данными, аналогичные, например, возможностям SQL для слияния и конкатенации таблиц: merge, join, concat. Наличие готовых методов позволяет не реализовывать самостоятельно поэлементную обработку данных и оперировать сразу целыми таблицами данных.\n",
    "\n",
    "Подробно об этих методах посмотрите тут: https://www.kaggle.com/residentmario/renaming-and-combining#Combining"
   ]
  },
  {
   "cell_type": "markdown",
   "metadata": {},
   "source": [
    "#### Задание 1. Соберите всю информацию о студентах в одну таблицу df. В получившейся таблице должна быть информация и оценки всех студентов из всех групп. Напечатайте несколько строк таблицы для демонстрации результата.¶"
   ]
  },
  {
   "cell_type": "code",
   "execution_count": 239,
   "metadata": {},
   "outputs": [
    {
     "name": "stdout",
     "output_type": "stream",
     "text": [
      "     index  gender race/ethnicity parental level of education         lunch  \\\n",
      "98      98  female        group D                some college  free/reduced   \n",
      "99      99  female        group D           bachelor's degree      standard   \n",
      "100    100    male        group B                some college      standard   \n",
      "101    101    male        group D           bachelor's degree      standard   \n",
      "102    102  female        group D          associate's degree      standard   \n",
      "\n",
      "    test preparation course   group  math score  reading score  writing score  \n",
      "98                     none  group1          58             67             62  \n",
      "99                     none  group1          65             67             62  \n",
      "100                    none  group2          79             67             67  \n",
      "101               completed  group2          68             74             74  \n",
      "102                    none  group2          85             91             89  \n"
     ]
    }
   ],
   "source": [
    "df_info = pd.DataFrame()\n",
    "df_marks = pd.DataFrame()\n",
    "info = \"Students_info_\"     # File names of tables \n",
    "marks = \"Students_marks_\"   #\n",
    "\n",
    "for i in range(10):\n",
    "    df_info = pd.concat([df_info, pd.read_csv(f\"./Data/{info}{i}.csv\")])    # Concatenating extracted data frames \n",
    "    df_marks = pd.concat([df_marks, pd.read_csv(f\"./Data/{marks}{i}.csv\")]) # into corresponding tables \n",
    "\n",
    "df = pd.merge(df_info, df_marks, on=\"index\") # merging tables by corresponding indexes \n",
    "\n",
    "print(df[98:103])"
   ]
  },
  {
   "cell_type": "markdown",
   "metadata": {
    "_uuid": "8524af4cbd2f7b7810e8a3095a74c9fe1df7eafa"
   },
   "source": [
    "#### Задание 2. Удалите столбец index у полученной таблицы. Напечатайте первые 10 строк таблицы."
   ]
  },
  {
   "cell_type": "code",
   "execution_count": 240,
   "metadata": {
    "_uuid": "fe62eee87b9b94ab923f57b55eaf0554612aa9e9"
   },
   "outputs": [
    {
     "name": "stdout",
     "output_type": "stream",
     "text": [
      "   gender race/ethnicity parental level of education         lunch  \\\n",
      "0  female        group B           bachelor's degree      standard   \n",
      "1  female        group C                some college      standard   \n",
      "2  female        group B             master's degree      standard   \n",
      "3    male        group A          associate's degree  free/reduced   \n",
      "4    male        group C                some college      standard   \n",
      "5  female        group B          associate's degree      standard   \n",
      "6  female        group B                some college      standard   \n",
      "7    male        group B                some college  free/reduced   \n",
      "8    male        group D                 high school  free/reduced   \n",
      "9  female        group B                 high school  free/reduced   \n",
      "\n",
      "  test preparation course   group  math score  reading score  writing score  \n",
      "0                    none  group1          72             72             74  \n",
      "1               completed  group1          69             90             88  \n",
      "2                    none  group1          90             95             93  \n",
      "3                    none  group1          47             57             44  \n",
      "4                    none  group1          76             78             75  \n",
      "5                    none  group1          71             83             78  \n",
      "6               completed  group1          88             95             92  \n",
      "7                    none  group1          40             43             39  \n",
      "8               completed  group1          64             64             67  \n",
      "9                    none  group1          38             60             50  \n"
     ]
    }
   ],
   "source": [
    "df.drop(\"index\", axis=1, inplace=True) # added inplace, to apply changes to table\n",
    "print(df[:10])"
   ]
  },
  {
   "cell_type": "markdown",
   "metadata": {
    "_uuid": "5fcd622942b7ecfc318934c6a245d3bb3bf01e84"
   },
   "source": [
    "#### Задание 3. Выведите на экран размеры полученной таблицы"
   ]
  },
  {
   "cell_type": "code",
   "execution_count": 241,
   "metadata": {
    "_uuid": "16281cd7b4e941ebed8ca2e1b42f62f55d838684"
   },
   "outputs": [
    {
     "name": "stdout",
     "output_type": "stream",
     "text": [
      "Количество колонок:\t 9\n",
      "Количество строк:\t 1000\n",
      "Количество ячеек:\t 9000\n"
     ]
    }
   ],
   "source": [
    "print(f\"Количество колонок:\\t {df.shape[1]}\")\n",
    "print(f\"Количество строк:\\t {df.shape[0]}\")\n",
    "print(f\"Количество ячеек:\\t {df.size}\")"
   ]
  },
  {
   "cell_type": "markdown",
   "metadata": {
    "_uuid": "fe8e3d58d29ca25dbbcf001392377643e6ff9a36"
   },
   "source": [
    "#### Задание 4. Выведите на экран статистические характеристики числовых столбцов таблицы (минимум, максимум, среднее значение, стандартное отклонение)"
   ]
  },
  {
   "cell_type": "code",
   "execution_count": 242,
   "metadata": {
    "_uuid": "e3d4bb80d2c4251fe517c24fcf08c5ff2d67b8aa"
   },
   "outputs": [
    {
     "name": "stdout",
     "output_type": "stream",
     "text": [
      "Минимум:\n",
      "math score        0\n",
      "reading score    17\n",
      "writing score    10\n",
      "\n",
      "Максимум:\n",
      "math score       100\n",
      "reading score    100\n",
      "writing score    100\n",
      "\n",
      "Среднее значение:\n",
      "math score       66.089\n",
      "reading score    69.169\n",
      "writing score    68.054\n",
      "\n",
      "Стандартное отклонение:\n",
      "math score       15.163080\n",
      "reading score    14.600192\n",
      "writing score    15.195657\n",
      "\n",
      "Я не знаю, что конкретно от нас требовалось, так что вот вариант c df.describe():\n",
      "                min    max    mean        std\n",
      "math score      0.0  100.0  66.089  15.163080\n",
      "reading score  17.0  100.0  69.169  14.600192\n",
      "writing score  10.0  100.0  68.054  15.195657\n"
     ]
    }
   ],
   "source": [
    "# all set to_string() to prevent \"dtype: ...\" line from being printed\n",
    "print(f\"Минимум:\\n{df.min(numeric_only=True).to_string()}\\n\")\n",
    "print(f\"Максимум:\\n{df.max(numeric_only=True).to_string()}\\n\")\n",
    "print(f\"Среднее значение:\\n{df.mean(numeric_only=True).to_string()}\\n\")\n",
    "print(f\"Стандартное отклонение:\\n{df.std(numeric_only=True).to_string()}\\n\")\n",
    "\n",
    "print(\"Я не знаю, что конкретно от нас требовалось, так что вот вариант c df.describe():\")\n",
    "print(df.describe().T[[\"min\", \"max\", \"mean\", \"std\"]])"
   ]
  },
  {
   "cell_type": "markdown",
   "metadata": {
    "_uuid": "b26b7de83485ecb3b8a0a7865a596e24527c7b2f"
   },
   "source": [
    "#### Задание 5. Проверьте, есть ли в таблице пропущенные значения"
   ]
  },
  {
   "cell_type": "code",
   "execution_count": 243,
   "metadata": {
    "_uuid": "4eac3f8f83d07c6e58ad1576fe0e773f37034a2f"
   },
   "outputs": [
    {
     "name": "stdout",
     "output_type": "stream",
     "text": [
      "False\n"
     ]
    }
   ],
   "source": [
    "print(df.isnull().values.any()) # False - нет пропущенных значений "
   ]
  },
  {
   "cell_type": "markdown",
   "metadata": {},
   "source": [
    "#### Задание 6. Выведите на экран средние баллы студентов по каждому предмету (math, reading, writing)"
   ]
  },
  {
   "cell_type": "code",
   "execution_count": 244,
   "metadata": {},
   "outputs": [
    {
     "name": "stdout",
     "output_type": "stream",
     "text": [
      "math score       66.089\n",
      "reading score    69.169\n",
      "writing score    68.054\n"
     ]
    }
   ],
   "source": [
    "cols = [\"math score\", \"reading score\", \"writing score\"]\n",
    "print(df[cols].mean().to_string())\n",
    "# print(df[cols].T.mean()) # Эта строчка печатает среднее по трём предметам для каждого студента"
   ]
  },
  {
   "cell_type": "markdown",
   "metadata": {},
   "source": [
    "**Задание 7. Как зависят оценки от того, проходил ли студент курс для подготовки к сдаче экзамена (test preparation course)? Выведите на экран для каждого предмета в отдельности средний балл студентов, проходивших курс для подготовки к экзамену и не проходивших курс.**"
   ]
  },
  {
   "cell_type": "code",
   "execution_count": 245,
   "metadata": {},
   "outputs": [
    {
     "name": "stdout",
     "output_type": "stream",
     "text": [
      "Math score\n",
      "Прошедшие: 69.69553072625699\n",
      "Пропустившие: 64.0778816199377\n",
      "\n",
      "Reading score\n",
      "Прошедшие: 73.89385474860335\n",
      "Пропустившие: 66.53426791277259\n",
      "\n",
      "Writing score\n",
      "Прошедшие: 74.41899441340782\n",
      "Пропустившие: 64.50467289719626\n",
      "\n"
     ]
    }
   ],
   "source": [
    "select = df[\"test preparation course\"] == \"completed\" # our selection of rows of students, who completed prep. course\n",
    "for c in cols:\n",
    "    print(c.capitalize())\n",
    "    print(f\"Прошедшие: {df[select][c].mean()}\")\n",
    "    print(f\"Пропустившие: {df[select.__invert__()][c].mean()}\") # could have used == False :)\n",
    "    print()"
   ]
  },
  {
   "cell_type": "markdown",
   "metadata": {},
   "source": [
    "**Задание 8. Выведите на экран все различные значения из столбца lunch.**"
   ]
  },
  {
   "cell_type": "code",
   "execution_count": 246,
   "metadata": {},
   "outputs": [
    {
     "name": "stdout",
     "output_type": "stream",
     "text": [
      "standard\n",
      "free/reduced\n"
     ]
    }
   ],
   "source": [
    "print(*df[\"lunch\"].unique(), sep=\"\\n\")"
   ]
  },
  {
   "cell_type": "markdown",
   "metadata": {},
   "source": [
    "**Задание 9. Переименуйте колонку \"parental level of education\" в \"education\", а \"test preparation course\" в \"test preparation\" с помощью метода pandas rename**\n",
    "https://pandas.pydata.org/pandas-docs/stable/reference/api/pandas.DataFrame.rename.html"
   ]
  },
  {
   "cell_type": "code",
   "execution_count": 247,
   "metadata": {},
   "outputs": [
    {
     "name": "stdout",
     "output_type": "stream",
     "text": [
      "gender | race/ethnicity | education | lunch | test preparation | group | math score | reading score | writing score\n"
     ]
    }
   ],
   "source": [
    "df.rename(columns={\"test preparation course\" : \"test preparation\", \"parental level of education\" : \"education\"}, inplace=True)\n",
    "print(*df.columns, sep=\" | \")"
   ]
  },
  {
   "cell_type": "markdown",
   "metadata": {},
   "source": [
    "**Зафиксируем минимальный балл для сдачи экзамена**"
   ]
  },
  {
   "cell_type": "code",
   "execution_count": 248,
   "metadata": {},
   "outputs": [],
   "source": [
    "passmark = 50"
   ]
  },
  {
   "cell_type": "markdown",
   "metadata": {},
   "source": [
    "**Задание 10. Ответьте на вопросы:**\n",
    "    * Какая доля студентов сдала экзамен по математике (passmark >= 50)?\n",
    "    * Какая доля студентов, проходивших курс подготовки к экзамену, сдала экзамен по математике?\n",
    "    * Какая доля женщин, не проходивших курс подготовки к экзамену, не сдала экзамен по математике? "
   ]
  },
  {
   "cell_type": "code",
   "execution_count": 249,
   "metadata": {},
   "outputs": [
    {
     "name": "stdout",
     "output_type": "stream",
     "text": [
      "1. Среди всех:                      85.0%\n",
      "2. Среди прошедших курс:            90.8%\n",
      "3. Среди женщин не прошедших курс:  23.4%\n"
     ]
    }
   ],
   "source": [
    "mark = df[\"math score\"] > passmark # успешная сдача\n",
    "course = df[\"test preparation\"] == \"completed\" # прошедшие курсы\n",
    "women = (df[\"gender\"] == \"female\") * (course == False) # не прошедшие курс женщины\n",
    "\n",
    "print(f'1. Среди всех:                      {round(mark.sum() / len(df) * 100,1)}%')\n",
    "print(f'2. Среди прошедших курс:            {round((mark * course).sum() / course.sum() * 100,1)}%')\n",
    "print(f'3. Среди женщин не прошедших курс:  {round(((mark == False) * women).sum() / women.sum() * 100,1)}%')"
   ]
  },
  {
   "cell_type": "markdown",
   "metadata": {},
   "source": [
    "**Задание 11. С помощью groupby выполните задания ниже. Также выведите время выполнения каждого из заданий.**\n",
    "    * Для каждой этнической группы выведите средний балл за экзамен по чтению\n",
    "    * Для каждого уровня образования выведите минимальный балл за экзамен по письму"
   ]
  },
  {
   "cell_type": "code",
   "execution_count": 289,
   "metadata": {},
   "outputs": [
    {
     "name": "stdout",
     "output_type": "stream",
     "text": [
      "Средний балл за чтение по этическим группам: \n",
      "race/ethnicity\n",
      "group A    64.674157\n",
      "group B    67.352632\n",
      "group C    69.103448\n",
      "group D    70.030534\n",
      "group E    73.028571\n",
      "\n",
      "Минимальный балл за экзамен по письму по уровням образования: \n",
      "education\n",
      "associate's degree    35\n",
      "bachelor's degree     38\n",
      "high school           15\n",
      "master's degree       46\n",
      "some college          19\n",
      "some high school      10\n",
      "\n",
      "Время исполнения:  4.25 ms ± 0 ns per loop (mean ± std. dev. of 1 run, 1 loop each)\n"
     ]
    }
   ],
   "source": [
    "%%timeit -n 1 -r 1 # Провожу измерение один раз, чтобы не засорять вывод принтами\n",
    "\n",
    "# %%timeit  # \\\n",
    "# %%capture # / Правильный вариант проведения измерений, который также предотвращает вывод \n",
    "\n",
    "print(\"Средний балл за чтение по этическим группам: \")\n",
    "print(df.groupby(\"race/ethnicity\")[\"reading score\"].mean().to_string())\n",
    "print(\"\\nМинимальный балл за экзамен по письму по уровням образования: \")\n",
    "print(df.groupby(\"education\")[\"writing score\"].min().to_string())\n",
    "print(\"\\nВремя исполнения: \", end=\" \")"
   ]
  },
  {
   "cell_type": "markdown",
   "metadata": {},
   "source": [
    "**Задание 12. Выполните задание 11 с помощью циклов. Сравните время выполнения.**"
   ]
  },
  {
   "cell_type": "code",
   "execution_count": 288,
   "metadata": {},
   "outputs": [
    {
     "name": "stdout",
     "output_type": "stream",
     "text": [
      "Средний балл за чтение по этическим группам: \n",
      "group B \t 67.35263157894737\n",
      "group C \t 69.10344827586206\n",
      "group A \t 64.67415730337079\n",
      "group D \t 70.03053435114504\n",
      "group E \t 73.02857142857142\n",
      "\n",
      "Минимальный балл за экзамен по письму по уровням образования: \n",
      "bachelor's degree    38\n",
      "some college         19\n",
      "master's degree      46\n",
      "associate's degree   35\n",
      "high school          15\n",
      "some high school     10\n",
      "\n",
      "Время исполнения:  15.4 ms ± 0 ns per loop (mean ± std. dev. of 1 run, 1 loop each)\n"
     ]
    }
   ],
   "source": [
    "%%timeit -n 1 -r 1 # Провожу измерение один раз, чтобы не засорять вывод принтами\n",
    "\n",
    "# %%timeit  \n",
    "# %%capture\n",
    "\n",
    "groups_eth = df[\"race/ethnicity\"].unique()\n",
    "groups_edu = df[\"education\"].unique()\n",
    "\n",
    "\n",
    "print(\"Средний балл за чтение по этическим группам: \")\n",
    "for g in groups_eth:\n",
    "    print(g, \"\\t\", df[df[\"race/ethnicity\"] == g][\"reading score\"].mean())\n",
    "print(\"\\nМинимальный балл за экзамен по письму по уровням образования: \")\n",
    "for g in groups_edu:\n",
    "    print(\"{:<20}\".format(g), df[df[\"education\"] == g][\"writing score\"].min())\n",
    "print(\"\\nВремя исполнения: \", end=\" \")\n"
   ]
  },
  {
   "cell_type": "markdown",
   "metadata": {},
   "source": [
    "**Задание 13. Выведите на экран средние баллы студентов по каждому предмету в зависимости от пола и уровня образования. То есть должно получиться количество групп, равных 2 * (число уровней образования), и для каждой такой группы выыведите средний балл по каждому из предметов.**\n",
    "\n",
    "Это можно сделать с помощью сводных таблиц (pivot_table):\n",
    "\n",
    "https://www.kaggle.com/kamilpolak/tutorial-how-to-use-pivot-table-in-pandas"
   ]
  },
  {
   "cell_type": "code",
   "execution_count": 300,
   "metadata": {},
   "outputs": [
    {
     "data": {
      "text/html": [
       "<div>\n",
       "<style scoped>\n",
       "    .dataframe tbody tr th:only-of-type {\n",
       "        vertical-align: middle;\n",
       "    }\n",
       "\n",
       "    .dataframe tbody tr th {\n",
       "        vertical-align: top;\n",
       "    }\n",
       "\n",
       "    .dataframe thead th {\n",
       "        text-align: right;\n",
       "    }\n",
       "</style>\n",
       "<table border=\"1\" class=\"dataframe\">\n",
       "  <thead>\n",
       "    <tr style=\"text-align: right;\">\n",
       "      <th></th>\n",
       "      <th></th>\n",
       "      <th>math score</th>\n",
       "      <th>reading score</th>\n",
       "      <th>writing score</th>\n",
       "    </tr>\n",
       "    <tr>\n",
       "      <th>gender</th>\n",
       "      <th>education</th>\n",
       "      <th></th>\n",
       "      <th></th>\n",
       "      <th></th>\n",
       "    </tr>\n",
       "  </thead>\n",
       "  <tbody>\n",
       "    <tr>\n",
       "      <th rowspan=\"6\" valign=\"top\">female</th>\n",
       "      <th>associate's degree</th>\n",
       "      <td>65.250000</td>\n",
       "      <td>74.120690</td>\n",
       "      <td>74.000000</td>\n",
       "    </tr>\n",
       "    <tr>\n",
       "      <th>bachelor's degree</th>\n",
       "      <td>68.349206</td>\n",
       "      <td>77.285714</td>\n",
       "      <td>78.380952</td>\n",
       "    </tr>\n",
       "    <tr>\n",
       "      <th>high school</th>\n",
       "      <td>59.351064</td>\n",
       "      <td>68.202128</td>\n",
       "      <td>66.691489</td>\n",
       "    </tr>\n",
       "    <tr>\n",
       "      <th>master's degree</th>\n",
       "      <td>66.500000</td>\n",
       "      <td>76.805556</td>\n",
       "      <td>77.638889</td>\n",
       "    </tr>\n",
       "    <tr>\n",
       "      <th>some college</th>\n",
       "      <td>65.406780</td>\n",
       "      <td>73.550847</td>\n",
       "      <td>74.050847</td>\n",
       "    </tr>\n",
       "    <tr>\n",
       "      <th>some high school</th>\n",
       "      <td>59.296703</td>\n",
       "      <td>69.109890</td>\n",
       "      <td>68.285714</td>\n",
       "    </tr>\n",
       "    <tr>\n",
       "      <th rowspan=\"6\" valign=\"top\">male</th>\n",
       "      <th>associate's degree</th>\n",
       "      <td>70.764151</td>\n",
       "      <td>67.433962</td>\n",
       "      <td>65.405660</td>\n",
       "    </tr>\n",
       "    <tr>\n",
       "      <th>bachelor's degree</th>\n",
       "      <td>70.581818</td>\n",
       "      <td>68.090909</td>\n",
       "      <td>67.654545</td>\n",
       "    </tr>\n",
       "    <tr>\n",
       "      <th>high school</th>\n",
       "      <td>64.705882</td>\n",
       "      <td>61.480392</td>\n",
       "      <td>58.539216</td>\n",
       "    </tr>\n",
       "    <tr>\n",
       "      <th>master's degree</th>\n",
       "      <td>74.826087</td>\n",
       "      <td>73.130435</td>\n",
       "      <td>72.608696</td>\n",
       "    </tr>\n",
       "    <tr>\n",
       "      <th>some college</th>\n",
       "      <td>69.009259</td>\n",
       "      <td>64.990741</td>\n",
       "      <td>63.148148</td>\n",
       "    </tr>\n",
       "    <tr>\n",
       "      <th>some high school</th>\n",
       "      <td>67.840909</td>\n",
       "      <td>64.693182</td>\n",
       "      <td>61.375000</td>\n",
       "    </tr>\n",
       "  </tbody>\n",
       "</table>\n",
       "</div>"
      ],
      "text/plain": [
       "                           math score  reading score  writing score\n",
       "gender education                                                   \n",
       "female associate's degree   65.250000      74.120690      74.000000\n",
       "       bachelor's degree    68.349206      77.285714      78.380952\n",
       "       high school          59.351064      68.202128      66.691489\n",
       "       master's degree      66.500000      76.805556      77.638889\n",
       "       some college         65.406780      73.550847      74.050847\n",
       "       some high school     59.296703      69.109890      68.285714\n",
       "male   associate's degree   70.764151      67.433962      65.405660\n",
       "       bachelor's degree    70.581818      68.090909      67.654545\n",
       "       high school          64.705882      61.480392      58.539216\n",
       "       master's degree      74.826087      73.130435      72.608696\n",
       "       some college         69.009259      64.990741      63.148148\n",
       "       some high school     67.840909      64.693182      61.375000"
      ]
     },
     "execution_count": 300,
     "metadata": {},
     "output_type": "execute_result"
    }
   ],
   "source": [
    "pd.pivot_table(df, index=[\"gender\", \"education\"]) # default aggregation function is already np.mean "
   ]
  },
  {
   "cell_type": "markdown",
   "metadata": {
    "_uuid": "3e832cb427c4314582d1953a41b8c78db75e30e3"
   },
   "source": [
    "#### Задание 14. Сколько студентов успешно сдали экзамен по математике?\n",
    "\n",
    "Создайте новый столбец в таблице df под названием Math_PassStatus и запишите в него F, если студент не сдал экзамен по математике (балл за экзамен < passmark), и P иначе.\n",
    "\n",
    "Посчитайте количество студентов, сдавших и не сдавших экзамен по математике.\n",
    "\n",
    "Сделайте аналогичные шаги для экзаменов по чтению и письму."
   ]
  },
  {
   "cell_type": "code",
   "execution_count": 322,
   "metadata": {
    "_uuid": "f43cddb72cc96b30df84bc0de83a4d9170904340"
   },
   "outputs": [
    {
     "name": "stdout",
     "output_type": "stream",
     "text": [
      "Math pass count: 850\n",
      "Reading pass count: 903\n",
      "Writing pass count: 876\n",
      "\n",
      "   math score  reading score  writing score Math_PassStatus  \\\n",
      "0          72             72             74               P   \n",
      "1          69             90             88               P   \n",
      "2          90             95             93               P   \n",
      "3          47             57             44               F   \n",
      "4          76             78             75               P   \n",
      "\n",
      "  Reading_PassStatus Writing_PassStatus  \n",
      "0                  P                  P  \n",
      "1                  P                  P  \n",
      "2                  P                  P  \n",
      "3                  P                  F  \n",
      "4                  P                  P  \n"
     ]
    }
   ],
   "source": [
    "for col in cols:\n",
    "    s = col.split()[0].capitalize()\n",
    "    name = f\"{s}_PassStatus\"\n",
    "    df[name] = \"F\"\n",
    "    df.loc[df[col] > passmark, name] = \"P\"\n",
    "    print(f\"{s} pass count: {(df[col] > passmark).sum()}\")\n",
    "print()\n",
    "print(df[df.columns[-6:]][:5])"
   ]
  },
  {
   "cell_type": "markdown",
   "metadata": {
    "_uuid": "b753c90914ee65501e2ed263ea614d88a381c472"
   },
   "source": [
    "#### Задание 15. Сколько студентов успешно сдали все экзамены?\n",
    "\n",
    "Создайте столбец OverAll_PassStatus и запишите в него для каждого студента 'F', если студент не сдал хотя бы один из трех экзаменов, а иначе 'P'.\n",
    "\n",
    "Посчитайте количество студентов, которые сдали все экзамены."
   ]
  },
  {
   "cell_type": "code",
   "execution_count": 331,
   "metadata": {
    "_uuid": "e98f895a022b967cab801447b616222439fe9d84"
   },
   "outputs": [
    {
     "name": "stdout",
     "output_type": "stream",
     "text": [
      "  Math_PassStatus Reading_PassStatus Writing_PassStatus OverAll_PassStatus\n",
      "0               P                  P                  P                  P\n",
      "1               P                  P                  P                  P\n",
      "2               P                  P                  P                  P\n",
      "3               F                  P                  F                  F\n",
      "4               P                  P                  P                  P\n",
      "5               P                  P                  P                  P\n",
      "6               P                  P                  P                  P\n",
      "7               F                  F                  F                  F\n",
      "8               P                  P                  P                  P\n",
      "9               F                  P                  F                  F\n"
     ]
    }
   ],
   "source": [
    "name = \"OverAll_PassStatus\"\n",
    "df[name] = \"F\"\n",
    "df.loc[(df[cols] > 50).all(axis=1), name] = \"P\"\n",
    "print(df[df.columns[-4:]][:10])\n"
   ]
  },
  {
   "cell_type": "markdown",
   "metadata": {
    "_uuid": "3af9c6cb4cbfff66d4ae09509f10b8b6ce33075d"
   },
   "source": [
    "#### Задание 16. Переведем баллы в оценки\n",
    "\n",
    "### Система перевода баллов в оценки\n",
    "####    больше 90 = A\n",
    "####      80-90 = B\n",
    "####      70-80 = C\n",
    "####      60-70 = D\n",
    "####      50-60 = E\n",
    "####    меньше 50 = F (Fail)\n",
    "\n",
    "Создайте вспомогательную функцию, которая будет по среднему баллу за три экзамена выставлять оценку студенту по данным выше критериям.\n",
    "\n",
    "Создайте столбец Grade и запишите в него оценку каждого студента.\n",
    "\n",
    "Выведите количество студентов, получивших каждую из оценок.\n",
    "\n",
    "**В случае, если средний балл попадает на границу между оценками (т.е. равен ровно 60, 70 или 80 баллов), вы можете интерпретировать условие на своё усмотрение (т.е. можете поставить за 60 баллов оценку D, а можете - E).**"
   ]
  },
  {
   "cell_type": "code",
   "execution_count": 360,
   "metadata": {
    "_uuid": "04707c5be4237020b906d2ac705a0db3d620506f"
   },
   "outputs": [
    {
     "name": "stdout",
     "output_type": "stream",
     "text": [
      "Grade\n",
      "A     52\n",
      "B    146\n",
      "C    261\n",
      "D    256\n",
      "E    182\n",
      "F    103\n"
     ]
    }
   ],
   "source": [
    "def GetGrade(average_mark):\n",
    "    conv = {90: \"A\", 80: \"B\", 70: \"C\", 60: \"D\", 50: \"E\"}\n",
    "    for i in conv:\n",
    "        if average_mark >= i:\n",
    "            return conv[i] \n",
    "    return \"F\"\n",
    "\n",
    "df[\"Grade\"] = df[cols].mean(axis=1)\n",
    "df[\"Grade\"] = df[\"Grade\"].apply(GetGrade)\n",
    "print(df.groupby(\"Grade\").size().to_string())"
   ]
  },
  {
   "cell_type": "code",
   "execution_count": null,
   "metadata": {},
   "outputs": [],
   "source": [
    " "
   ]
  }
 ],
 "metadata": {
  "kernelspec": {
   "display_name": "Python 3",
   "language": "python",
   "name": "python3"
  },
  "language_info": {
   "codemirror_mode": {
    "name": "ipython",
    "version": 3
   },
   "file_extension": ".py",
   "mimetype": "text/x-python",
   "name": "python",
   "nbconvert_exporter": "python",
   "pygments_lexer": "ipython3",
   "version": "3.10.6"
  },
  "vscode": {
   "interpreter": {
    "hash": "28f83bf948cdec89b1141f0418316448765d7e0b251714ef4b1dc99f1a1aec48"
   }
  }
 },
 "nbformat": 4,
 "nbformat_minor": 1
}
